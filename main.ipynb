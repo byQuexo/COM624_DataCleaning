{
 "cells": [
  {
   "metadata": {},
   "cell_type": "markdown",
   "source": [
    "## Dataset Week 3 \n",
    "\n",
    "### Cleaning and correlation"
   ],
   "id": "1ef0c766a769b1be"
  },
  {
   "metadata": {},
   "cell_type": "markdown",
   "source": "#### Import Lib ",
   "id": "146be994fab4c648"
  },
  {
   "cell_type": "code",
   "id": "initial_id",
   "metadata": {
    "collapsed": true,
    "ExecuteTime": {
     "end_time": "2024-10-08T15:19:54.869809Z",
     "start_time": "2024-10-08T15:19:54.865649Z"
    }
   },
   "source": [
    "import pandas as pd\n",
    "#import matplotlib.pyplot as plt"
   ],
   "outputs": [],
   "execution_count": 36
  },
  {
   "metadata": {},
   "cell_type": "markdown",
   "source": "#### Create the Dataset and Load it  ",
   "id": "3984146ac08bb4a"
  },
  {
   "metadata": {
    "ExecuteTime": {
     "end_time": "2024-10-08T15:19:54.892868Z",
     "start_time": "2024-10-08T15:19:54.881359Z"
    }
   },
   "cell_type": "code",
   "source": [
    "data = {\n",
    "    \"calories\": [420,380,390,230],\n",
    "    \"duration\":[50,40,45,20],\n",
    "    \"heartbeat\":[120,110,115,90]\n",
    "}\n",
    "\n",
    "df = pd.DataFrame(data)"
   ],
   "id": "d7d938da8cf7ad75",
   "outputs": [],
   "execution_count": 37
  },
  {
   "metadata": {},
   "cell_type": "markdown",
   "source": "## Print the Dataset",
   "id": "ae36754ab3a6f325"
  },
  {
   "metadata": {
    "ExecuteTime": {
     "end_time": "2024-10-08T15:19:54.909572Z",
     "start_time": "2024-10-08T15:19:54.899878Z"
    }
   },
   "cell_type": "code",
   "source": "print(df)",
   "id": "e09889207d7791a8",
   "outputs": [
    {
     "name": "stdout",
     "output_type": "stream",
     "text": [
      "   calories  duration  heartbeat\n",
      "0       420        50        120\n",
      "1       380        40        110\n",
      "2       390        45        115\n",
      "3       230        20         90\n"
     ]
    }
   ],
   "execution_count": 38
  },
  {
   "metadata": {
    "ExecuteTime": {
     "end_time": "2024-10-08T15:19:55.010660Z",
     "start_time": "2024-10-08T15:19:54.991477Z"
    }
   },
   "cell_type": "code",
   "source": [
    "print (df.loc[0]) # print the first row of the data frame\n",
    "print (df.loc[[0,3]]) # print the first and 2nd row of the data frame\n",
    "print(df[\"heartbeat\"]) #"
   ],
   "id": "918c61d179e0bd66",
   "outputs": [
    {
     "name": "stdout",
     "output_type": "stream",
     "text": [
      "calories     420\n",
      "duration      50\n",
      "heartbeat    120\n",
      "Name: 0, dtype: int64\n",
      "   calories  duration  heartbeat\n",
      "0       420        50        120\n",
      "3       230        20         90\n",
      "0    120\n",
      "1    110\n",
      "2    115\n",
      "3     90\n",
      "Name: heartbeat, dtype: int64\n"
     ]
    }
   ],
   "execution_count": 39
  },
  {
   "metadata": {},
   "cell_type": "markdown",
   "source": "",
   "id": "262d6c3a421a898a"
  },
  {
   "metadata": {},
   "cell_type": "markdown",
   "source": "### Save Data to CSV",
   "id": "a1d2610d3537ffba"
  },
  {
   "metadata": {
    "ExecuteTime": {
     "end_time": "2024-10-08T15:19:55.148022Z",
     "start_time": "2024-10-08T15:19:55.139419Z"
    }
   },
   "cell_type": "code",
   "source": [
    "df = pd.DataFrame (data, index = [\"day1\",\"day2\",\"day3\",\"day4\"])\n",
    "print(df.to_string())\n",
    "print (df.loc[\"day1\"]) # print the first row of the data frame\n",
    "df.to_csv(r'Data/dataframe with no indexes no header.csv',index=False, header = False) # will save data only without in\n",
    "df.to_csv(r'Data/dataframe with no indexes with header.csv',index=False, header = True) # will save data without indexe\n",
    "df.to_csv(r'Data/dataframe with indexes and header.csv',index=True, header = True) # will save data with indexes and he"
   ],
   "id": "6a06bace4a6da3fd",
   "outputs": [
    {
     "name": "stdout",
     "output_type": "stream",
     "text": [
      "      calories  duration  heartbeat\n",
      "day1       420        50        120\n",
      "day2       380        40        110\n",
      "day3       390        45        115\n",
      "day4       230        20         90\n",
      "calories     420\n",
      "duration      50\n",
      "heartbeat    120\n",
      "Name: day1, dtype: int64\n"
     ]
    }
   ],
   "execution_count": 40
  },
  {
   "metadata": {},
   "cell_type": "markdown",
   "source": "#### Load data.csv file",
   "id": "aa58e5b31086c8d2"
  },
  {
   "metadata": {
    "ExecuteTime": {
     "end_time": "2024-10-08T15:19:55.195564Z",
     "start_time": "2024-10-08T15:19:55.191317Z"
    }
   },
   "cell_type": "code",
   "source": "df_data = pd.read_csv(r'Data/data.csv')",
   "id": "56e1a75256af76ff",
   "outputs": [],
   "execution_count": 41
  },
  {
   "metadata": {},
   "cell_type": "markdown",
   "source": "#### Print the new Dataset",
   "id": "4db7a799776285ab"
  },
  {
   "metadata": {
    "ExecuteTime": {
     "end_time": "2024-10-08T15:19:55.231351Z",
     "start_time": "2024-10-08T15:19:55.212206Z"
    }
   },
   "cell_type": "code",
   "source": [
    "print(df_data)\n",
    "print(df_data.head(5))\n",
    "print(df_data.loc[[0,1,2,3,4]])\n",
    "print(df_data.head(10))\n",
    "print(df_data.tail(10))\n",
    "print(df_data.info())\n",
    "print(df_data.describe())"
   ],
   "id": "41ec25f8eaadcb9f",
   "outputs": [
    {
     "name": "stdout",
     "output_type": "stream",
     "text": [
      "     Duration  Pulse  Maxpulse  Calories\n",
      "0          60    110       130     409.1\n",
      "1          60    117       145     479.0\n",
      "2          60    103       135     340.0\n",
      "3          45    109       175     282.4\n",
      "4          45    117       148     406.0\n",
      "..        ...    ...       ...       ...\n",
      "164        60    105       140     290.8\n",
      "165        60    110       145     300.0\n",
      "166        60    115       145     310.2\n",
      "167        75    120       150     320.4\n",
      "168        75    125       150     330.4\n",
      "\n",
      "[169 rows x 4 columns]\n",
      "   Duration  Pulse  Maxpulse  Calories\n",
      "0        60    110       130     409.1\n",
      "1        60    117       145     479.0\n",
      "2        60    103       135     340.0\n",
      "3        45    109       175     282.4\n",
      "4        45    117       148     406.0\n",
      "   Duration  Pulse  Maxpulse  Calories\n",
      "0        60    110       130     409.1\n",
      "1        60    117       145     479.0\n",
      "2        60    103       135     340.0\n",
      "3        45    109       175     282.4\n",
      "4        45    117       148     406.0\n",
      "   Duration  Pulse  Maxpulse  Calories\n",
      "0        60    110       130     409.1\n",
      "1        60    117       145     479.0\n",
      "2        60    103       135     340.0\n",
      "3        45    109       175     282.4\n",
      "4        45    117       148     406.0\n",
      "5        60    102       127     300.0\n",
      "6        60    110       136     374.0\n",
      "7        45    104       134     253.3\n",
      "8        30    109       133     195.1\n",
      "9        60     98       124     269.0\n",
      "     Duration  Pulse  Maxpulse  Calories\n",
      "159        30     80       120     240.9\n",
      "160        30     85       120     250.4\n",
      "161        45     90       130     260.4\n",
      "162        45     95       130     270.0\n",
      "163        45    100       140     280.9\n",
      "164        60    105       140     290.8\n",
      "165        60    110       145     300.0\n",
      "166        60    115       145     310.2\n",
      "167        75    120       150     320.4\n",
      "168        75    125       150     330.4\n",
      "<class 'pandas.core.frame.DataFrame'>\n",
      "RangeIndex: 169 entries, 0 to 168\n",
      "Data columns (total 4 columns):\n",
      " #   Column    Non-Null Count  Dtype  \n",
      "---  ------    --------------  -----  \n",
      " 0   Duration  169 non-null    int64  \n",
      " 1   Pulse     169 non-null    int64  \n",
      " 2   Maxpulse  169 non-null    int64  \n",
      " 3   Calories  164 non-null    float64\n",
      "dtypes: float64(1), int64(3)\n",
      "memory usage: 5.4 KB\n",
      "None\n",
      "         Duration       Pulse    Maxpulse     Calories\n",
      "count  169.000000  169.000000  169.000000   164.000000\n",
      "mean    63.846154  107.461538  134.047337   375.790244\n",
      "std     42.299949   14.510259   16.450434   266.379919\n",
      "min     15.000000   80.000000  100.000000    50.300000\n",
      "25%     45.000000  100.000000  124.000000   250.925000\n",
      "50%     60.000000  105.000000  131.000000   318.600000\n",
      "75%     60.000000  111.000000  141.000000   387.600000\n",
      "max    300.000000  159.000000  184.000000  1860.400000\n"
     ]
    }
   ],
   "execution_count": 42
  },
  {
   "metadata": {},
   "cell_type": "markdown",
   "source": "### Replace Null values and save as new File",
   "id": "df168b76dca6c4bc"
  },
  {
   "metadata": {
    "ExecuteTime": {
     "end_time": "2024-10-08T15:19:55.264243Z",
     "start_time": "2024-10-08T15:19:55.256214Z"
    }
   },
   "cell_type": "code",
   "source": [
    "df_data.dropna(inplace = True)\n",
    "print(df_data.info())\n",
    "df_data.to_csv(r'Data/data without empty values.csv',index=False, header = True) "
   ],
   "id": "67dc4d4101ca5810",
   "outputs": [
    {
     "name": "stdout",
     "output_type": "stream",
     "text": [
      "<class 'pandas.core.frame.DataFrame'>\n",
      "Index: 164 entries, 0 to 168\n",
      "Data columns (total 4 columns):\n",
      " #   Column    Non-Null Count  Dtype  \n",
      "---  ------    --------------  -----  \n",
      " 0   Duration  164 non-null    int64  \n",
      " 1   Pulse     164 non-null    int64  \n",
      " 2   Maxpulse  164 non-null    int64  \n",
      " 3   Calories  164 non-null    float64\n",
      "dtypes: float64(1), int64(3)\n",
      "memory usage: 6.4 KB\n",
      "None\n"
     ]
    }
   ],
   "execution_count": 43
  },
  {
   "metadata": {},
   "cell_type": "markdown",
   "source": "### Replace Non Values with 130",
   "id": "5d92e35d572cbd3d"
  },
  {
   "metadata": {
    "ExecuteTime": {
     "end_time": "2024-10-08T15:21:17.448946Z",
     "start_time": "2024-10-08T15:21:17.432820Z"
    }
   },
   "cell_type": "code",
   "source": [
    "df.fillna(130, inplace = True)\n",
    "df.to_csv(r'Data/data with empty values 130.csv',index=False, header = True)\n",
    "print(df_data.info())"
   ],
   "id": "2a7a85ffb69173fe",
   "outputs": [
    {
     "name": "stdout",
     "output_type": "stream",
     "text": [
      "<class 'pandas.core.frame.DataFrame'>\n",
      "Index: 164 entries, 0 to 168\n",
      "Data columns (total 4 columns):\n",
      " #   Column    Non-Null Count  Dtype  \n",
      "---  ------    --------------  -----  \n",
      " 0   Duration  164 non-null    int64  \n",
      " 1   Pulse     164 non-null    int64  \n",
      " 2   Maxpulse  164 non-null    int64  \n",
      " 3   Calories  164 non-null    float64\n",
      "dtypes: float64(1), int64(3)\n",
      "memory usage: 6.4 KB\n",
      "None\n"
     ]
    }
   ],
   "execution_count": 44
  },
  {
   "metadata": {},
   "cell_type": "markdown",
   "source": "### Only fill specific Row with new Data",
   "id": "356cef826a821aee"
  },
  {
   "metadata": {
    "ExecuteTime": {
     "end_time": "2024-10-08T15:22:20.794935Z",
     "start_time": "2024-10-08T15:22:20.783558Z"
    }
   },
   "cell_type": "code",
   "source": [
    "print(df_data.info())\n",
    "df_data[\"Calories\"].fillna(130, inplace = True)\n",
    "print(df_data.info())\n"
   ],
   "id": "57a279dc3404ccca",
   "outputs": [
    {
     "name": "stdout",
     "output_type": "stream",
     "text": [
      "<class 'pandas.core.frame.DataFrame'>\n",
      "Index: 164 entries, 0 to 168\n",
      "Data columns (total 4 columns):\n",
      " #   Column    Non-Null Count  Dtype  \n",
      "---  ------    --------------  -----  \n",
      " 0   Duration  164 non-null    int64  \n",
      " 1   Pulse     164 non-null    int64  \n",
      " 2   Maxpulse  164 non-null    int64  \n",
      " 3   Calories  164 non-null    float64\n",
      "dtypes: float64(1), int64(3)\n",
      "memory usage: 6.4 KB\n",
      "None\n",
      "<class 'pandas.core.frame.DataFrame'>\n",
      "Index: 164 entries, 0 to 168\n",
      "Data columns (total 4 columns):\n",
      " #   Column    Non-Null Count  Dtype  \n",
      "---  ------    --------------  -----  \n",
      " 0   Duration  164 non-null    int64  \n",
      " 1   Pulse     164 non-null    int64  \n",
      " 2   Maxpulse  164 non-null    int64  \n",
      " 3   Calories  164 non-null    float64\n",
      "dtypes: float64(1), int64(3)\n",
      "memory usage: 6.4 KB\n",
      "None\n"
     ]
    },
    {
     "name": "stderr",
     "output_type": "stream",
     "text": [
      "C:\\Users\\0guhnt69\\AppData\\Local\\Temp\\ipykernel_2388\\3671787111.py:2: FutureWarning: A value is trying to be set on a copy of a DataFrame or Series through chained assignment using an inplace method.\n",
      "The behavior will change in pandas 3.0. This inplace method will never work because the intermediate object on which we are setting values always behaves as a copy.\n",
      "\n",
      "For example, when doing 'df[col].method(value, inplace=True)', try using 'df.method({col: value}, inplace=True)' or df[col] = df[col].method(value) instead, to perform the operation inplace on the original object.\n",
      "\n",
      "\n",
      "  df_data[\"Calories\"].fillna(130, inplace = True)\n"
     ]
    }
   ],
   "execution_count": 46
  },
  {
   "metadata": {},
   "cell_type": "markdown",
   "source": "### Replace Empty values with there MEAN ",
   "id": "b6c95bfc0711703d"
  },
  {
   "metadata": {
    "ExecuteTime": {
     "end_time": "2024-10-08T15:34:37.982637Z",
     "start_time": "2024-10-08T15:34:37.968126Z"
    }
   },
   "cell_type": "code",
   "source": [
    "print(df_data.info())\n",
    "x = df_data[\"Calories\"].median()\n",
    "df_data[\"Calories\"].fillna(x, inplace = True)\n",
    "print(df_data.info())\n",
    "df_data.to_csv(r'Data/data with empty values MEDIAN.csv',index=False, header = True)"
   ],
   "id": "b18aaabb7e4a2bd",
   "outputs": [
    {
     "name": "stdout",
     "output_type": "stream",
     "text": [
      "<class 'pandas.core.frame.DataFrame'>\n",
      "Index: 164 entries, 0 to 168\n",
      "Data columns (total 4 columns):\n",
      " #   Column    Non-Null Count  Dtype  \n",
      "---  ------    --------------  -----  \n",
      " 0   Duration  164 non-null    int64  \n",
      " 1   Pulse     164 non-null    int64  \n",
      " 2   Maxpulse  164 non-null    int64  \n",
      " 3   Calories  164 non-null    float64\n",
      "dtypes: float64(1), int64(3)\n",
      "memory usage: 6.4 KB\n",
      "None\n",
      "<class 'pandas.core.frame.DataFrame'>\n",
      "Index: 164 entries, 0 to 168\n",
      "Data columns (total 4 columns):\n",
      " #   Column    Non-Null Count  Dtype  \n",
      "---  ------    --------------  -----  \n",
      " 0   Duration  164 non-null    int64  \n",
      " 1   Pulse     164 non-null    int64  \n",
      " 2   Maxpulse  164 non-null    int64  \n",
      " 3   Calories  164 non-null    float64\n",
      "dtypes: float64(1), int64(3)\n",
      "memory usage: 6.4 KB\n",
      "None\n"
     ]
    },
    {
     "name": "stderr",
     "output_type": "stream",
     "text": [
      "C:\\Users\\0guhnt69\\AppData\\Local\\Temp\\ipykernel_2388\\565840007.py:3: FutureWarning: A value is trying to be set on a copy of a DataFrame or Series through chained assignment using an inplace method.\n",
      "The behavior will change in pandas 3.0. This inplace method will never work because the intermediate object on which we are setting values always behaves as a copy.\n",
      "\n",
      "For example, when doing 'df[col].method(value, inplace=True)', try using 'df.method({col: value}, inplace=True)' or df[col] = df[col].method(value) instead, to perform the operation inplace on the original object.\n",
      "\n",
      "\n",
      "  df_data[\"Calories\"].fillna(x, inplace = True)\n"
     ]
    }
   ],
   "execution_count": 48
  }
 ],
 "metadata": {
  "kernelspec": {
   "display_name": "Python 3",
   "language": "python",
   "name": "python3"
  },
  "language_info": {
   "codemirror_mode": {
    "name": "ipython",
    "version": 2
   },
   "file_extension": ".py",
   "mimetype": "text/x-python",
   "name": "python",
   "nbconvert_exporter": "python",
   "pygments_lexer": "ipython2",
   "version": "2.7.6"
  }
 },
 "nbformat": 4,
 "nbformat_minor": 5
}
